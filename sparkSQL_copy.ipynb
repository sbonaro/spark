{
 "cells": [
  {
   "cell_type": "code",
   "execution_count": 1,
   "id": "dc9c78df",
   "metadata": {},
   "outputs": [],
   "source": [
    "from pyspark.sql import SparkSession\n",
    "from pyspark.sql.functions import *"
   ]
  },
  {
   "cell_type": "code",
   "execution_count": 2,
   "id": "0edd6cfd",
   "metadata": {},
   "outputs": [],
   "source": [
    "spark = SparkSession.\\\n",
    "builder.\\\n",
    "appName(\"sparksql\").\\\n",
    "getOrCreate()"
   ]
  },
  {
   "cell_type": "code",
   "execution_count": 3,
   "id": "c3fd35ee",
   "metadata": {},
   "outputs": [
    {
     "name": "stdout",
     "output_type": "stream",
     "text": [
      "3.5.4\n"
     ]
    }
   ],
   "source": [
    "print(spark.version)"
   ]
  },
  {
   "cell_type": "code",
   "execution_count": 4,
   "id": "46c9da5b",
   "metadata": {},
   "outputs": [],
   "source": [
    "data = spark.read.format('csv').\\\n",
    "option('inferSchema','true').\\\n",
    "option('header', 'true').\\\n",
    "option('path','operations_management.csv').\\\n",
    "load()"
   ]
  },
  {
   "cell_type": "code",
   "execution_count": 5,
   "id": "3777e0eb",
   "metadata": {},
   "outputs": [
    {
     "name": "stdout",
     "output_type": "stream",
     "text": [
      "root\n",
      " |-- description: string (nullable = true)\n",
      " |-- industry: string (nullable = true)\n",
      " |-- level: integer (nullable = true)\n",
      " |-- size: string (nullable = true)\n",
      " |-- line_code: string (nullable = true)\n",
      " |-- value: integer (nullable = true)\n",
      "\n"
     ]
    }
   ],
   "source": [
    "data.printSchema()"
   ]
  },
  {
   "cell_type": "code",
   "execution_count": 12,
   "id": "f475f068",
   "metadata": {},
   "outputs": [],
   "source": [
    "# data.createOrReplaceTempView(\"test\") # 1ro ((local  view))\n",
    "data.createOrReplaceGlobalTempView(\"test\") # 2do visible en multiple spark session (global  view)"
   ]
  },
  {
   "cell_type": "code",
   "execution_count": 13,
   "id": "a8d398e1-e034-427e-bfe8-9e4bf6fa1b77",
   "metadata": {},
   "outputs": [],
   "source": [
    "data2 = spark.sql(\"\"\"\n",
    "select * FROM test\n",
    "\"\"\")"
   ]
  },
  {
   "cell_type": "code",
   "execution_count": 14,
   "id": "c1c14eb2-27e4-4727-9ca9-16012b67155d",
   "metadata": {},
   "outputs": [
    {
     "name": "stdout",
     "output_type": "stream",
     "text": [
      "+--------------------+--------------------+-----+---------------+---------+-----+\n",
      "|         description|            industry|level|           size|line_code|value|\n",
      "+--------------------+--------------------+-----+---------------+---------+-----+\n",
      "|Awareness of clim...|               total|    0| 6–19 employees| C0300.01|13080|\n",
      "|Awareness of clim...|               total|    0|20–49 employees| C0300.01| 3348|\n",
      "|Awareness of clim...|               total|    0|50–99 employees| C0300.01| 1089|\n",
      "|Awareness of clim...|               total|    0| 100+ employees| C0300.01| 1023|\n",
      "|Awareness of clim...|Agriculture, fore...|    1|          total| C0300.01| 2364|\n",
      "|Awareness of clim...|         Agriculture|    2|          total| C0300.01| 1683|\n",
      "|Awareness of clim...|  Commercial fishing|    2|          total| C0300.01|   27|\n",
      "|Awareness of clim...|  Forestry & logging|    2|          total| C0300.01|  126|\n",
      "|Awareness of clim...|Agriculture, fore...|    2|          total| C0300.01|  528|\n",
      "|Awareness of clim...|              Mining|    1|          total| C0300.01|   72|\n",
      "|Awareness of clim...|       Manufacturing|    1|          total| C0300.01| 1971|\n",
      "|Awareness of clim...|Food, beverage, &...|    2|          total| C0300.01|  588|\n",
      "|Awareness of clim...|Textile, clothing...|    2|          total| C0300.01|   96|\n",
      "|Awareness of clim...|Wood & paper product|    2|          total| C0300.01|  156|\n",
      "|Awareness of clim...|Printing, publish...|    2|          total| C0300.01|   72|\n",
      "|Awareness of clim...|Petroleum, coal, ...|    2|          total| C0300.01|  189|\n",
      "|Awareness of clim...|Non-metallic mine...|    2|          total| C0300.01|  108|\n",
      "|Awareness of clim...|       Metal product|    2|          total| C0300.01|  246|\n",
      "|Awareness of clim...|Transport and ind...|    2|          total| C0300.01|  285|\n",
      "|Awareness of clim...|Other machinery &...|    2|          total| C0300.01|  117|\n",
      "+--------------------+--------------------+-----+---------------+---------+-----+\n",
      "only showing top 20 rows\n",
      "\n"
     ]
    }
   ],
   "source": [
    "data2.show()"
   ]
  },
  {
   "cell_type": "code",
   "execution_count": 15,
   "id": "78182c58-e731-4e7e-b2cb-c21b454edfef",
   "metadata": {},
   "outputs": [
    {
     "data": {
      "text/plain": [
       "[Database(name='default', catalog='spark_catalog', description='default database', locationUri='file:/C:/Users/cti7600/Desktop/Modelado_CU/PROG/APACHE/spark-warehouse')]"
      ]
     },
     "execution_count": 15,
     "metadata": {},
     "output_type": "execute_result"
    }
   ],
   "source": [
    "spark.catalog.listDatabases() # 2 do visible en multiple spark session (global  view)"
   ]
  },
  {
   "cell_type": "code",
   "execution_count": 16,
   "id": "daec7b56-62f7-4004-9f6e-6c76bc298b90",
   "metadata": {},
   "outputs": [
    {
     "data": {
      "text/plain": [
       "[Table(name='test', catalog=None, namespace=[], description=None, tableType='TEMPORARY', isTemporary=True)]"
      ]
     },
     "execution_count": 16,
     "metadata": {},
     "output_type": "execute_result"
    }
   ],
   "source": [
    "spark.catalog.listTables() # 2 do"
   ]
  },
  {
   "cell_type": "code",
   "execution_count": 17,
   "id": "08ddf37b-75ef-4241-bc0f-842598caac28",
   "metadata": {},
   "outputs": [
    {
     "data": {
      "text/plain": [
       "True"
      ]
     },
     "execution_count": 17,
     "metadata": {},
     "output_type": "execute_result"
    }
   ],
   "source": [
    "spark.catalog.dropGlobalTempView(\"test\") # 2 do visible en multiple spark session (global  view)"
   ]
  },
  {
   "cell_type": "code",
   "execution_count": null,
   "id": "266499da-db39-4ab0-ac83-110185f7626e",
   "metadata": {},
   "outputs": [],
   "source": []
  }
 ],
 "metadata": {
  "kernelspec": {
   "display_name": "Python 3 (ipykernel)",
   "language": "python",
   "name": "python3"
  },
  "language_info": {
   "codemirror_mode": {
    "name": "ipython",
    "version": 3
   },
   "file_extension": ".py",
   "mimetype": "text/x-python",
   "name": "python",
   "nbconvert_exporter": "python",
   "pygments_lexer": "ipython3",
   "version": "3.12.7"
  }
 },
 "nbformat": 4,
 "nbformat_minor": 5
}
